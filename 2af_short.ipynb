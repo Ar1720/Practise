{
  "nbformat": 4,
  "nbformat_minor": 0,
  "metadata": {
    "colab": {
      "provenance": [],
      "mount_file_id": "1NsxDUZAKAuaW1LqyzDarK7d0aen8ZpR8",
      "authorship_tag": "ABX9TyMho6jsHVckNZ//iFJ/4NTz",
      "include_colab_link": true
    },
    "kernelspec": {
      "name": "python3",
      "display_name": "Python 3"
    },
    "language_info": {
      "name": "python"
    }
  },
  "cells": [
    {
      "cell_type": "markdown",
      "metadata": {
        "id": "view-in-github",
        "colab_type": "text"
      },
      "source": [
        "<a href=\"https://colab.research.google.com/github/Ar1720/Practise/blob/main/2af_short.ipynb\" target=\"_parent\"><img src=\"https://colab.research.google.com/assets/colab-badge.svg\" alt=\"Open In Colab\"/></a>"
      ]
    },
    {
      "cell_type": "code",
      "execution_count": null,
      "metadata": {
        "id": "I3XHa97qZcH0"
      },
      "outputs": [],
      "source": [
        "# code doesnt work\n",
        "from google.colab import drive\n",
        "drive.read_excel('/content/drive/MyDrive/Spreadsheet/Short1.xlsx')"
      ]
    },
    {
      "cell_type": "code",
      "source": [
        "# code works\n",
        "import pandas as pd\n",
        "\n",
        "df = pd.read_excel(\"/content/drive/MyDrive/Spreadsheet/Short2.xlsx\")\n",
        "print(df)"
      ],
      "metadata": {
        "id": "Ax7vtfY2cHew"
      },
      "execution_count": null,
      "outputs": []
    },
    {
      "cell_type": "code",
      "source": [
        "# code works\n",
        "import pandas as pd\n",
        "\n",
        "df = pd.read_excel(\"/content/drive/MyDrive/Spreadsheet/Short1.xlsx\")\n",
        "print(df.head(1))"
      ],
      "metadata": {
        "id": "TJ1skEfGczvg"
      },
      "execution_count": null,
      "outputs": []
    },
    {
      "cell_type": "code",
      "source": [
        "# code works\n",
        "import pandas as pd\n",
        "df = pd.DataFrame([[1, 2], [4, 5], [7, 8]],\n",
        "     index=['cobra', 'viper', 'sidewinder'],\n",
        "     columns=['max_speed', 'shield'])\n",
        "\n",
        "print(df)\n",
        "print('space space space space space space space')\n",
        "print(df.loc['viper'])"
      ],
      "metadata": {
        "id": "D4OLT_oHiSMp"
      },
      "execution_count": null,
      "outputs": []
    },
    {
      "cell_type": "code",
      "source": [
        "# code works\n",
        "import pandas as pd\n",
        "\n",
        "# this gets rid of 1st unnamed column in csv\n",
        "# df = pd.read_csv('data.csv', index_col=0)\n",
        "\n",
        "df1a = pd.read_excel(\"/content/drive/MyDrive/Spreadsheet/Short1.xlsx\", skiprows=4)\n",
        "# df1a.to_csv(\"df1acsv.csv\", encoding=\"utf-8\")\n",
        "# df.to_parquet(\"df1apar.parquet\", compression=\"Snappy\")\n",
        "\n",
        "# print(df1a)\n",
        "# print(df1a.columns)\n",
        "# print(df1a.head)\n",
        "# print(df1a.info)\n",
        "print(df1a.shape)\n",
        "print(df1a[['Export status','Local Authority']])\n",
        "print(df1a['Tariff Description'].value_counts())\n",
        "print(df1a.columns)\n",
        "print('OJ simpson killed his wife')\n",
        "print(df1a.info())\n",
        "# df1a.to_parquet(\"example_pa.parquet\", engine=\"pyarrow\")\n",
        "# cf1a = pd.read_csv(\"/content/drive/MyDrive/Spreadsheet/Short1csv.csv\", encoding='utf-8-sig')\n",
        "# df1a.to_parquet(\"cf1a.parquet\", engine=\"pyarrow\")\n",
        "df2a = pd.read_excel(\"/content/drive/MyDrive/Spreadsheet/Short2.xlsx\")\n",
        "df3a = pd.read_excel(\"/content/drive/MyDrive/Spreadsheet/Short3.xlsx\")\n",
        "\n",
        "# print(df1a)\n",
        "# print ('Kroy needs to get divorced from kim and save his children')\n",
        "# print(df1a.iloc[3])\n",
        "\n",
        "\n",
        "\n",
        "\n"
      ],
      "metadata": {
        "id": "Uvgdtvczxs78",
        "colab": {
          "base_uri": "https://localhost:8080/"
        },
        "outputId": "9e85f583-f5d3-4e6c-e6d3-f441a422d0da"
      },
      "execution_count": 1,
      "outputs": [
        {
          "output_type": "stream",
          "name": "stdout",
          "text": [
            "(25, 21)\n",
            "                 Export status            Local Authority\n",
            "0   Export (Negotiated Tariff)              Monmouthshire\n",
            "1     Export (Standard Tariff)          Vale of Glamorgan\n",
            "2   Export (Negotiated Tariff)                  Kettering\n",
            "3   Export (Negotiated Tariff)                    Wrexham\n",
            "4                    No Export                      Corby\n",
            "5                    No Export                 Birmingham\n",
            "6   Export (Negotiated Tariff)                 Shropshire\n",
            "7   Export (Negotiated Tariff)   Herefordshire- County of\n",
            "8     Export (Standard Tariff)             South Somerset\n",
            "9   Export (Negotiated Tariff)                 Shropshire\n",
            "10  Export (Negotiated Tariff)   Herefordshire- County of\n",
            "11  Export (Negotiated Tariff)                  Sedgemoor\n",
            "12  Export (Negotiated Tariff)                    Unknown\n",
            "13  Export (Negotiated Tariff)   Herefordshire- County of\n",
            "14             Export (Deemed)              Pembrokeshire\n",
            "15  Export (Negotiated Tariff)               Denbighshire\n",
            "16  Export (Negotiated Tariff)                      Conwy\n",
            "17  Export (Negotiated Tariff)          Perth and Kinross\n",
            "18  Export (Negotiated Tariff)                   Highland\n",
            "19        No Export (Off-Grid)                 Ceredigion\n",
            "20  Export (Negotiated Tariff)             North Ayrshire\n",
            "21    Export (Standard Tariff)                 Midlothian\n",
            "22             Export (Deemed)                   Barnsley\n",
            "23    Export (Standard Tariff)            Argyll and Bute\n",
            "24             Export (Deemed)  Somerset West and Taunton\n",
            "Hydro (>100kW–2MW)-2011/12                                           3\n",
            "Hydro (>15–100kW )-2011/12                                           3\n",
            "Hydro (>15–100kW )-2012/13                                           2\n",
            "Anaerobic Digestion (>500kW)-2012/13                                 2\n",
            "Hydro (<=15kW)-2011/12                                               2\n",
            "Anaerobic Digestion (>500kW)-2014/15                                 2\n",
            "Anaerobic Digestion (>500kW)-2015/16                                 1\n",
            "Hydro (>100kW–2MW)-2012/13                                           1\n",
            "Anaerobic Digestion (<=250kW)-2015/16                                1\n",
            "Anaerobic Digestion (<=500kW)-2011/12                                1\n",
            "Anaerobic Digestion (>500kW)-2013/14 Comp Review 2B - Reduced        1\n",
            "Anaerobic Digestion (>250-500kW)-2012/13 - Comp Review 2B            1\n",
            "Anaerobic Digestion (>250-500kW)-2012/13                             1\n",
            "Anaerobic Digestion (>250-500kw)-2011/12 - Post Fast Track Review    1\n",
            "Anaerobic Digestion (<=250kW)-2012/13                                1\n",
            "Anaerobic Digestion (<=500kW)-2010/11                                1\n",
            "Anaerobic Digestion (>250-500kW)-2013/14 - Comp Review 2B            1\n",
            "Name: Tariff Description, dtype: int64\n",
            "Index(['Extension (Y/N)', 'PostCode ', 'Technology', 'Installed capacity',\n",
            "       'Declared net capacity', 'Application date ', 'Commissioning date',\n",
            "       'MCS issue date', 'Export status', 'TariffCode', 'Tariff Description',\n",
            "       'Installation Type', 'Installation Country', 'Government Office Region',\n",
            "       'Local Authority', 'Constituency', 'Accreditation Route', 'MPAN Prefix',\n",
            "       'Community school category', 'LLSOA Code', 'MLSOA Code'],\n",
            "      dtype='object')\n",
            "OJ simpson killed his wife\n",
            "<class 'pandas.core.frame.DataFrame'>\n",
            "RangeIndex: 25 entries, 0 to 24\n",
            "Data columns (total 21 columns):\n",
            " #   Column                     Non-Null Count  Dtype         \n",
            "---  ------                     --------------  -----         \n",
            " 0   Extension (Y/N)            25 non-null     object        \n",
            " 1   PostCode                   25 non-null     object        \n",
            " 2   Technology                 25 non-null     object        \n",
            " 3   Installed capacity         25 non-null     float64       \n",
            " 4   Declared net capacity      25 non-null     float64       \n",
            " 5   Application date           25 non-null     datetime64[ns]\n",
            " 6   Commissioning date         25 non-null     datetime64[ns]\n",
            " 7   MCS issue date             0 non-null      float64       \n",
            " 8   Export status              25 non-null     object        \n",
            " 9   TariffCode                 25 non-null     object        \n",
            " 10  Tariff Description         25 non-null     object        \n",
            " 11  Installation Type          25 non-null     object        \n",
            " 12  Installation Country       25 non-null     object        \n",
            " 13  Government Office Region   25 non-null     object        \n",
            " 14  Local Authority            25 non-null     object        \n",
            " 15  Constituency               25 non-null     object        \n",
            " 16  Accreditation Route        25 non-null     object        \n",
            " 17  MPAN Prefix                24 non-null     float64       \n",
            " 18  Community school category  25 non-null     object        \n",
            " 19  LLSOA Code                 25 non-null     object        \n",
            " 20  MLSOA Code                 25 non-null     object        \n",
            "dtypes: datetime64[ns](2), float64(4), object(15)\n",
            "memory usage: 4.2+ KB\n",
            "None\n"
          ]
        }
      ]
    },
    {
      "cell_type": "code",
      "source": [
        "import pandas as pd\n",
        "df = pd.read_csv('example.csv')\n",
        "df.to_parquet('output.parquet')"
      ],
      "metadata": {
        "id": "w76-5SHxP_GG"
      },
      "execution_count": null,
      "outputs": []
    },
    {
      "cell_type": "code",
      "source": [
        "import pandas as pd\n",
        "import chardet\n",
        "with open('/content/drive/MyDrive/Spreadsheet/Short1csv.csv', 'rb') as f:\n",
        "    result = chardet.detect(f.read())  # or readline if the file is large\n",
        "df = pd.read_csv('/content/drive/MyDrive/Spreadsheet/Short1csv.csv', encoding=result['encoding'])\n",
        "print(result)"
      ],
      "metadata": {
        "colab": {
          "base_uri": "https://localhost:8080/"
        },
        "id": "N1lXF2GGRNY9",
        "outputId": "97d4f5ff-e542-44b1-9b85-87a29848ae5c"
      },
      "execution_count": null,
      "outputs": [
        {
          "output_type": "stream",
          "name": "stdout",
          "text": [
            "{'encoding': 'Windows-1252', 'confidence': 0.73, 'language': ''}\n"
          ]
        }
      ]
    },
    {
      "cell_type": "code",
      "source": [
        "import os\n",
        "\n",
        "file_name = \"/content/drive/MyDrive/Spreadsheet/Short1.xlsx\"\n",
        "\n",
        "file_stats = os.stat(file_name)\n",
        "\n",
        "print(file_stats)\n",
        "print(f'File Size in Bytes is {file_stats.st_size}')\n",
        "print(f'File Size in KiloBytes is {file_stats.st_size / 1000}')\n",
        "print(f'File Size in MegaBytes is {file_stats.st_size / (1024 * 1024)}')"
      ],
      "metadata": {
        "colab": {
          "base_uri": "https://localhost:8080/"
        },
        "id": "1hG7eBQjD6Gm",
        "outputId": "c8c222ad-10a8-43f4-aace-b06bcf5bbeb1"
      },
      "execution_count": null,
      "outputs": [
        {
          "output_type": "stream",
          "name": "stdout",
          "text": [
            "os.stat_result(st_mode=33152, st_ino=35, st_dev=50, st_nlink=1, st_uid=0, st_gid=0, st_size=37890, st_atime=1704001571, st_mtime=1704002011, st_ctime=1704002011)\n",
            "File Size in Bytes is 37890\n",
            "File Size in KiloBytes is 37.89\n",
            "File Size in MegaBytes is 0.03613471984863281\n"
          ]
        }
      ]
    },
    {
      "cell_type": "markdown",
      "source": [],
      "metadata": {
        "id": "r7yc3YhnbkJX"
      }
    }
  ]
}