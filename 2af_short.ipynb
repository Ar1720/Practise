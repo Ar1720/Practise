{
  "nbformat": 4,
  "nbformat_minor": 0,
  "metadata": {
    "colab": {
      "provenance": [],
      "mount_file_id": "1NsxDUZAKAuaW1LqyzDarK7d0aen8ZpR8",
      "authorship_tag": "ABX9TyON15EWRXYc+jV+xjdl/GQ9",
      "include_colab_link": true
    },
    "kernelspec": {
      "name": "python3",
      "display_name": "Python 3"
    },
    "language_info": {
      "name": "python"
    }
  },
  "cells": [
    {
      "cell_type": "markdown",
      "metadata": {
        "id": "view-in-github",
        "colab_type": "text"
      },
      "source": [
        "<a href=\"https://colab.research.google.com/github/Ar1720/Practise/blob/main/2af_short.ipynb\" target=\"_parent\"><img src=\"https://colab.research.google.com/assets/colab-badge.svg\" alt=\"Open In Colab\"/></a>"
      ]
    },
    {
      "cell_type": "code",
      "execution_count": null,
      "metadata": {
        "id": "I3XHa97qZcH0"
      },
      "outputs": [],
      "source": [
        "from google.colab import drive\n",
        "drive.read_excel('/content/drive/MyDrive/Spreadsheet/Short1.xlsx')"
      ]
    },
    {
      "cell_type": "code",
      "source": [
        "import pandas as pd\n",
        "\n",
        "df = pd.read_excel(\"/content/drive/MyDrive/Spreadsheet/Short1.xlsx\")\n",
        "print(df)"
      ],
      "metadata": {
        "id": "Ax7vtfY2cHew"
      },
      "execution_count": null,
      "outputs": []
    },
    {
      "cell_type": "code",
      "source": [
        "import pandas as pd\n",
        "\n",
        "df = pd.read_excel(\"/content/drive/MyDrive/Spreadsheet/Short1.xlsx\")\n",
        "print(df.head(3))\n",
        "print(df.loc['Wales'])"
      ],
      "metadata": {
        "id": "TJ1skEfGczvg"
      },
      "execution_count": null,
      "outputs": []
    },
    {
      "cell_type": "code",
      "source": [
        "import pandas as pd\n",
        "df = pd.DataFrame([[1, 2], [4, 5], [7, 8]],\n",
        "     index=['cobra', 'viper', 'sidewinder'],\n",
        "     columns=['max_speed', 'shield'])\n",
        "\n",
        "print(df)\n",
        "print('space space space space space space space')\n",
        "print(df.loc['viper'])"
      ],
      "metadata": {
        "colab": {
          "base_uri": "https://localhost:8080/"
        },
        "id": "D4OLT_oHiSMp",
        "outputId": "e0b36511-3914-4bba-9591-59f7bd0e3478"
      },
      "execution_count": 28,
      "outputs": [
        {
          "output_type": "stream",
          "name": "stdout",
          "text": [
            "            max_speed  shield\n",
            "cobra               1       2\n",
            "viper               4       5\n",
            "sidewinder          7       8\n",
            "space space space space space space space\n",
            "max_speed    4\n",
            "shield       5\n",
            "Name: viper, dtype: int64\n"
          ]
        }
      ]
    },
    {
      "cell_type": "markdown",
      "source": [],
      "metadata": {
        "id": "r7yc3YhnbkJX"
      }
    }
  ]
}