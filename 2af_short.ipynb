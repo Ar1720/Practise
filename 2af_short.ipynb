{
  "nbformat": 4,
  "nbformat_minor": 0,
  "metadata": {
    "colab": {
      "provenance": [],
      "mount_file_id": "1NsxDUZAKAuaW1LqyzDarK7d0aen8ZpR8",
      "authorship_tag": "ABX9TyObO26iAn59IgC4ONHWPjhg",
      "include_colab_link": true
    },
    "kernelspec": {
      "name": "python3",
      "display_name": "Python 3"
    },
    "language_info": {
      "name": "python"
    }
  },
  "cells": [
    {
      "cell_type": "markdown",
      "metadata": {
        "id": "view-in-github",
        "colab_type": "text"
      },
      "source": [
        "<a href=\"https://colab.research.google.com/github/Ar1720/Practise/blob/main/2af_short.ipynb\" target=\"_parent\"><img src=\"https://colab.research.google.com/assets/colab-badge.svg\" alt=\"Open In Colab\"/></a>"
      ]
    },
    {
      "cell_type": "code",
      "execution_count": null,
      "metadata": {
        "id": "I3XHa97qZcH0"
      },
      "outputs": [],
      "source": [
        "# code doesnt work\n",
        "from google.colab import drive\n",
        "drive.read_excel('/content/drive/MyDrive/Spreadsheet/Short1.xlsx')"
      ]
    },
    {
      "cell_type": "code",
      "source": [
        "# code works\n",
        "import pandas as pd\n",
        "\n",
        "df = pd.read_excel(\"/content/drive/MyDrive/Spreadsheet/Short2.xlsx\")\n",
        "print(df)"
      ],
      "metadata": {
        "id": "Ax7vtfY2cHew"
      },
      "execution_count": null,
      "outputs": []
    },
    {
      "cell_type": "code",
      "source": [
        "# code works\n",
        "import pandas as pd\n",
        "\n",
        "df = pd.read_excel(\"/content/drive/MyDrive/Spreadsheet/Short1.xlsx\")\n",
        "print(df.head(1))"
      ],
      "metadata": {
        "id": "TJ1skEfGczvg"
      },
      "execution_count": null,
      "outputs": []
    },
    {
      "cell_type": "code",
      "source": [
        "# code works\n",
        "import pandas as pd\n",
        "df = pd.DataFrame([[1, 2], [4, 5], [7, 8]],\n",
        "     index=['cobra', 'viper', 'sidewinder'],\n",
        "     columns=['max_speed', 'shield'])\n",
        "\n",
        "print(df)\n",
        "print('space space space space space space space')\n",
        "print(df.loc['viper'])"
      ],
      "metadata": {
        "id": "D4OLT_oHiSMp"
      },
      "execution_count": null,
      "outputs": []
    },
    {
      "cell_type": "code",
      "source": [
        "# code works\n",
        "import pandas as pd\n",
        "\n",
        "# this gets rid of 1st unnamed column in csv\n",
        "# df = pd.read_csv('data.csv', index_col=0)\n",
        "\n",
        "df1a = pd.read_excel(\"/content/drive/MyDrive/Spreadsheet/Short1.xlsx\", skiprows=4)\n",
        "# df1a(\"Postcode \").astype('float').dtypes\n",
        "# dtype='int32'\n",
        "# df1a.to_csv(\"df1acsv.csv\", encoding=\"utf-8\")\n",
        "# df.to_parquet(\"df1apar.parquet\", compression=\"Snappy\")\n",
        "\n",
        "# print(df1a)\n",
        "# print(df1a.columns)\n",
        "# print(df1a.head)\n",
        "# print(df1a.info)\n",
        "print(df1a['PostCode '])\n",
        "print(\"this is the maximum value for installed capacity\")\n",
        "print(df1a['Installed capacity'].max())\n",
        "print(\"this is the minimum value for installed capacity\")\n",
        "print(df1a['Installed capacity'].min())\n",
        "print(df1a.shape)\n",
        "print(df1a[['Export status','Local Authority']])\n",
        "print(df1a['Tariff Description'].value_counts())\n",
        "print(df1a.columns)\n",
        "print(\"ugly betty was overrated\")\n",
        "print(df1a.tail())\n",
        "print('OJ simpson killed his wife')\n",
        "print(df1a.info())\n",
        "#df.loc[\"2018-02:2018-03\",\"Installed capacity\"].max\n",
        "# df1a.to_parquet(\"example_pa.parquet\", engine=\"pyarrow\")\n",
        "# cf1a = pd.read_csv(\"/content/drive/MyDrive/Spreadsheet/Short1csv.csv\", encoding='utf-8-sig')\n",
        "# df1a.to_parquet(\"cf1a.parquet\", engine=\"pyarrow\")\n",
        "df2a = pd.read_excel(\"/content/drive/MyDrive/Spreadsheet/Short2.xlsx\")\n",
        "df3a = pd.read_excel(\"/content/drive/MyDrive/Spreadsheet/Short3.xlsx\")\n",
        "# df.loc[:,] = pd.to_datetime(df.loc[:,], utc=True) for datetime in espeni\n",
        "\n",
        "# df = df.set_index(\"\") for setting index, you use ELEC_ELEX_startOfSP datetime\n",
        "# print(df1a)\n",
        "# print ('Kroy needs to get divorced from kim and save his children')\n",
        "# print(df1a.iloc[3])\n",
        "\n",
        "\n",
        "\n",
        "\n"
      ],
      "metadata": {
        "id": "Uvgdtvczxs78",
        "colab": {
          "base_uri": "https://localhost:8080/"
        },
        "outputId": "4dd23f1b-f8a9-48b6-91fa-fb9d0a85c5a4"
      },
      "execution_count": null,
      "outputs": [
        {
          "output_type": "stream",
          "name": "stdout",
          "text": [
            "0        NP26\n",
            "1        CF62\n",
            "2        NN16\n",
            "3        LL13\n",
            "4        NN17\n",
            "5        B7  \n",
            "6        SY4 \n",
            "7        SY7 \n",
            "8        TA20\n",
            "9        SY8 \n",
            "10       HR3 \n",
            "11       TA5 \n",
            "12    Unknown\n",
            "13       HR3 \n",
            "14       SA42\n",
            "15       LL20\n",
            "16       LL24\n",
            "17       PH15\n",
            "18       IV27\n",
            "19       SY23\n",
            "20       KA30\n",
            "21       EH26\n",
            "22       S36 \n",
            "23       PA28\n",
            "24       TA22\n",
            "Name: PostCode , dtype: object\n",
            "this is the maximum value for installed capacity\n",
            "2000.0\n",
            "this is the minimum value for installed capacity\n",
            "1.0\n",
            "(25, 21)\n",
            "                 Export status            Local Authority\n",
            "0   Export (Negotiated Tariff)              Monmouthshire\n",
            "1     Export (Standard Tariff)          Vale of Glamorgan\n",
            "2   Export (Negotiated Tariff)                  Kettering\n",
            "3   Export (Negotiated Tariff)                    Wrexham\n",
            "4                    No Export                      Corby\n",
            "5                    No Export                 Birmingham\n",
            "6   Export (Negotiated Tariff)                 Shropshire\n",
            "7   Export (Negotiated Tariff)   Herefordshire- County of\n",
            "8     Export (Standard Tariff)             South Somerset\n",
            "9   Export (Negotiated Tariff)                 Shropshire\n",
            "10  Export (Negotiated Tariff)   Herefordshire- County of\n",
            "11  Export (Negotiated Tariff)                  Sedgemoor\n",
            "12  Export (Negotiated Tariff)                    Unknown\n",
            "13  Export (Negotiated Tariff)   Herefordshire- County of\n",
            "14             Export (Deemed)              Pembrokeshire\n",
            "15  Export (Negotiated Tariff)               Denbighshire\n",
            "16  Export (Negotiated Tariff)                      Conwy\n",
            "17  Export (Negotiated Tariff)          Perth and Kinross\n",
            "18  Export (Negotiated Tariff)                   Highland\n",
            "19        No Export (Off-Grid)                 Ceredigion\n",
            "20  Export (Negotiated Tariff)             North Ayrshire\n",
            "21    Export (Standard Tariff)                 Midlothian\n",
            "22             Export (Deemed)                   Barnsley\n",
            "23    Export (Standard Tariff)            Argyll and Bute\n",
            "24             Export (Deemed)  Somerset West and Taunton\n",
            "Hydro (>100kW–2MW)-2011/12                                           3\n",
            "Hydro (>15–100kW )-2011/12                                           3\n",
            "Hydro (>15–100kW )-2012/13                                           2\n",
            "Anaerobic Digestion (>500kW)-2012/13                                 2\n",
            "Hydro (<=15kW)-2011/12                                               2\n",
            "Anaerobic Digestion (>500kW)-2014/15                                 2\n",
            "Anaerobic Digestion (>500kW)-2015/16                                 1\n",
            "Hydro (>100kW–2MW)-2012/13                                           1\n",
            "Anaerobic Digestion (<=250kW)-2015/16                                1\n",
            "Anaerobic Digestion (<=500kW)-2011/12                                1\n",
            "Anaerobic Digestion (>500kW)-2013/14 Comp Review 2B - Reduced        1\n",
            "Anaerobic Digestion (>250-500kW)-2012/13 - Comp Review 2B            1\n",
            "Anaerobic Digestion (>250-500kW)-2012/13                             1\n",
            "Anaerobic Digestion (>250-500kw)-2011/12 - Post Fast Track Review    1\n",
            "Anaerobic Digestion (<=250kW)-2012/13                                1\n",
            "Anaerobic Digestion (<=500kW)-2010/11                                1\n",
            "Anaerobic Digestion (>250-500kW)-2013/14 - Comp Review 2B            1\n",
            "Name: Tariff Description, dtype: int64\n",
            "Index(['Extension (Y/N)', 'PostCode ', 'Technology', 'Installed capacity',\n",
            "       'Declared net capacity', 'Application date ', 'Commissioning date',\n",
            "       'MCS issue date', 'Export status', 'TariffCode', 'Tariff Description',\n",
            "       'Installation Type', 'Installation Country', 'Government Office Region',\n",
            "       'Local Authority', 'Constituency', 'Accreditation Route', 'MPAN Prefix',\n",
            "       'Community school category', 'LLSOA Code', 'MLSOA Code'],\n",
            "      dtype='object')\n",
            "ugly betty was overrated\n",
            "   Extension (Y/N) PostCode  Technology  Installed capacity  \\\n",
            "20               N      KA30      Hydro               330.0   \n",
            "21               N      EH26      Hydro               295.0   \n",
            "22               N      S36       Hydro                14.9   \n",
            "23               N      PA28      Hydro                45.0   \n",
            "24               N      TA22      Hydro                25.0   \n",
            "\n",
            "    Declared net capacity Application date  Commissioning date  \\\n",
            "20                  329.9        2011-09-12         2011-10-05   \n",
            "21                  289.6        2011-09-30         2011-12-13   \n",
            "22                   14.9        2011-12-02         2011-12-24   \n",
            "23                   45.0        2011-11-06         2012-03-13   \n",
            "24                   21.0        2012-01-20         2012-01-19   \n",
            "\n",
            "    MCS issue date               Export status    TariffCode  ...  \\\n",
            "20             NaN  Export (Negotiated Tariff)  HY/100-2M/02  ...   \n",
            "21             NaN    Export (Standard Tariff)  HY/100-2M/02  ...   \n",
            "22             NaN             Export (Deemed)    HY/0-15/02  ...   \n",
            "23             NaN    Export (Standard Tariff)  HY/15-100/02  ...   \n",
            "24             NaN             Export (Deemed)  HY/15-100/02  ...   \n",
            "\n",
            "            Installation Type Installation Country  Government Office Region  \\\n",
            "20  Non Domestic (Commercial)             Scotland                  Scotland   \n",
            "21  Non Domestic (Industrial)             Scotland                  Scotland   \n",
            "22  Non Domestic (Commercial)              England  Yorkshire and The Humber   \n",
            "23  Non Domestic (Commercial)             Scotland                  Scotland   \n",
            "24                   Domestic              England                South West   \n",
            "\n",
            "              Local Authority                  Constituency  \\\n",
            "20             North Ayrshire      North Ayrshire and Arran   \n",
            "21                 Midlothian                    Midlothian   \n",
            "22                   Barnsley    Penistone and Stocksbridge   \n",
            "23            Argyll and Bute               Argyll and Bute   \n",
            "24  Somerset West and Taunton  Bridgwater and West Somerset   \n",
            "\n",
            "   Accreditation Route MPAN Prefix  Community school category LLSOA Code  \\\n",
            "20              ROOFIT        18.0    Not Community Or School  S01011334   \n",
            "21              ROOFIT        18.0    Not Community Or School  S01010955   \n",
            "22              ROOFIT        23.0    Not Community Or School  E01007426   \n",
            "23              ROOFIT        17.0    Not Community Or School  S01007332   \n",
            "24              ROOFIT        22.0    Not Community Or School  E01029338   \n",
            "\n",
            "   MLSOA Code  \n",
            "20  S02002130  \n",
            "21  S02002056  \n",
            "22  E02001535  \n",
            "23  S02001379  \n",
            "24  E02006117  \n",
            "\n",
            "[5 rows x 21 columns]\n",
            "OJ simpson killed his wife\n",
            "<class 'pandas.core.frame.DataFrame'>\n",
            "RangeIndex: 25 entries, 0 to 24\n",
            "Data columns (total 21 columns):\n",
            " #   Column                     Non-Null Count  Dtype         \n",
            "---  ------                     --------------  -----         \n",
            " 0   Extension (Y/N)            25 non-null     object        \n",
            " 1   PostCode                   25 non-null     object        \n",
            " 2   Technology                 25 non-null     object        \n",
            " 3   Installed capacity         25 non-null     float64       \n",
            " 4   Declared net capacity      25 non-null     float64       \n",
            " 5   Application date           25 non-null     datetime64[ns]\n",
            " 6   Commissioning date         25 non-null     datetime64[ns]\n",
            " 7   MCS issue date             0 non-null      float64       \n",
            " 8   Export status              25 non-null     object        \n",
            " 9   TariffCode                 25 non-null     object        \n",
            " 10  Tariff Description         25 non-null     object        \n",
            " 11  Installation Type          25 non-null     object        \n",
            " 12  Installation Country       25 non-null     object        \n",
            " 13  Government Office Region   25 non-null     object        \n",
            " 14  Local Authority            25 non-null     object        \n",
            " 15  Constituency               25 non-null     object        \n",
            " 16  Accreditation Route        25 non-null     object        \n",
            " 17  MPAN Prefix                24 non-null     float64       \n",
            " 18  Community school category  25 non-null     object        \n",
            " 19  LLSOA Code                 25 non-null     object        \n",
            " 20  MLSOA Code                 25 non-null     object        \n",
            "dtypes: datetime64[ns](2), float64(4), object(15)\n",
            "memory usage: 4.2+ KB\n",
            "None\n"
          ]
        }
      ]
    },
    {
      "cell_type": "code",
      "source": [
        "# code works\n",
        "import pandas as pd\n",
        "\n",
        "\n",
        "df1a = pd.read_excel(\"/content/drive/MyDrive/Spreadsheet/Short1.xlsx\", skiprows=4)\n",
        "print(df1a.columns)\n",
        "df1a.set_index('PostCode ')\n",
        "# opposite pandas.DataFrame.reset_index\n",
        "# print(df1a)\n",
        "# print(df1a.loc[\"2010-01-01 00:00:00:2014-01-01 00:00:00\",\"Application date\"].max)\n",
        "\n",
        "print(df1a.loc[0])\n",
        "print(df1a.loc['360.0'])"
      ],
      "metadata": {
        "id": "J_-W-wNeqy-3"
      },
      "execution_count": null,
      "outputs": []
    },
    {
      "cell_type": "code",
      "source": [
        "df = pd.DataFrame([[1, 2], [4, 5], [7, 8]],\n",
        "     index=['cobra', 'viper', 'sidewinder'],\n",
        "     columns=['max_speed', 'shield'])\n",
        "print(df)\n",
        "print(df.columns)\n",
        "print(df.loc['viper'])"
      ],
      "metadata": {
        "id": "nmrLdCUJu6Gm"
      },
      "execution_count": null,
      "outputs": []
    },
    {
      "cell_type": "code",
      "source": [
        "# Importing datetime.\n",
        "from datetime import datetime\n",
        "import pandas as pd\n",
        "\n",
        "# this gets rid of 1st unnamed column in csv\n",
        "# df = pd.read_csv('data.csv', index_col=0)\n",
        "\n",
        "df1a = pd.read_excel(\"/content/drive/MyDrive/Spreadsheet/Short1.xlsx\", skiprows=4)\n",
        "\n",
        "# Creating a datetime object so we can test.\n",
        "df1a = datetime.now()\n",
        "\n",
        "# Converting a to string in the desired format (YYYYMMDD) using strftime\n",
        "# and then to int.\n",
        "a = int(a.strftime('%Y%m%d'))"
      ],
      "metadata": {
        "colab": {
          "base_uri": "https://localhost:8080/",
          "height": 210
        },
        "id": "EszE4utpXwtv",
        "outputId": "f1f04b28-cb6b-46d7-a6ab-9d58ef956167"
      },
      "execution_count": null,
      "outputs": [
        {
          "output_type": "error",
          "ename": "AttributeError",
          "evalue": "ignored",
          "traceback": [
            "\u001b[0;31m---------------------------------------------------------------------------\u001b[0m",
            "\u001b[0;31mAttributeError\u001b[0m                            Traceback (most recent call last)",
            "\u001b[0;32m<ipython-input-6-6eac4d8d7668>\u001b[0m in \u001b[0;36m<cell line: 15>\u001b[0;34m()\u001b[0m\n\u001b[1;32m     13\u001b[0m \u001b[0;31m# Converting a to string in the desired format (YYYYMMDD) using strftime\u001b[0m\u001b[0;34m\u001b[0m\u001b[0;34m\u001b[0m\u001b[0m\n\u001b[1;32m     14\u001b[0m \u001b[0;31m# and then to int.\u001b[0m\u001b[0;34m\u001b[0m\u001b[0;34m\u001b[0m\u001b[0m\n\u001b[0;32m---> 15\u001b[0;31m \u001b[0ma\u001b[0m \u001b[0;34m=\u001b[0m \u001b[0mint\u001b[0m\u001b[0;34m(\u001b[0m\u001b[0ma\u001b[0m\u001b[0;34m.\u001b[0m\u001b[0mstrftime\u001b[0m\u001b[0;34m(\u001b[0m\u001b[0;34m'%Y%m%d'\u001b[0m\u001b[0;34m)\u001b[0m\u001b[0;34m)\u001b[0m\u001b[0;34m\u001b[0m\u001b[0;34m\u001b[0m\u001b[0m\n\u001b[0m",
            "\u001b[0;31mAttributeError\u001b[0m: 'int' object has no attribute 'strftime'"
          ]
        }
      ]
    },
    {
      "cell_type": "code",
      "source": [
        "\n",
        "from datetime import datetime\n",
        "\n",
        "now = datetime.now() # current date and time\n",
        "\n",
        "year = now.strftime(\"%Y\")\n",
        "print(\"year:\", year)\n",
        "\n",
        "month = now.strftime(\"%m\")\n",
        "print(\"month:\", month)\n",
        "\n",
        "day = now.strftime(\"%d\")\n",
        "print(\"day:\", day)\n",
        "\n",
        "time = now.strftime(\"%H:%M:%S\")\n",
        "print(\"time:\", time)\n",
        "\n",
        "date_time = now.strftime(\"%m/%d/%Y, %H:%M:%S\")\n",
        "print(\"date and time:\",date_time)"
      ],
      "metadata": {
        "colab": {
          "base_uri": "https://localhost:8080/"
        },
        "id": "ExJYpwmJYOTo",
        "outputId": "30c2e63a-2161-493d-d15f-8275575acdd6"
      },
      "execution_count": null,
      "outputs": [
        {
          "output_type": "stream",
          "name": "stdout",
          "text": [
            "year: 2024\n",
            "month: 01\n",
            "day: 01\n",
            "time: 18:54:51\n",
            "date and time: 01/01/2024, 18:54:51\n"
          ]
        }
      ]
    },
    {
      "cell_type": "code",
      "source": [
        "import pandas as pd\n",
        "df = pd.read_csv('example.csv')\n",
        "df.to_parquet('output.parquet')"
      ],
      "metadata": {
        "id": "w76-5SHxP_GG"
      },
      "execution_count": null,
      "outputs": []
    },
    {
      "cell_type": "code",
      "source": [
        "import pandas as pd\n",
        "import chardet\n",
        "with open('/content/drive/MyDrive/Spreadsheet/Short1csv.csv', 'rb') as f:\n",
        "    result = chardet.detect(f.read())  # or readline if the file is large\n",
        "df = pd.read_csv('/content/drive/MyDrive/Spreadsheet/Short1csv.csv', encoding=result['encoding'])\n",
        "print(result)"
      ],
      "metadata": {
        "colab": {
          "base_uri": "https://localhost:8080/"
        },
        "id": "N1lXF2GGRNY9",
        "outputId": "97d4f5ff-e542-44b1-9b85-87a29848ae5c"
      },
      "execution_count": null,
      "outputs": [
        {
          "output_type": "stream",
          "name": "stdout",
          "text": [
            "{'encoding': 'Windows-1252', 'confidence': 0.73, 'language': ''}\n"
          ]
        }
      ]
    },
    {
      "cell_type": "code",
      "source": [
        "import os\n",
        "\n",
        "file_name = \"/content/drive/MyDrive/Spreadsheet/Short1.xlsx\"\n",
        "\n",
        "file_stats = os.stat(file_name)\n",
        "\n",
        "print(file_stats)\n",
        "print(f'File Size in Bytes is {file_stats.st_size}')\n",
        "print(f'File Size in KiloBytes is {file_stats.st_size / 1000}')\n",
        "print(f'File Size in MegaBytes is {file_stats.st_size / (1024 * 1024)}')"
      ],
      "metadata": {
        "colab": {
          "base_uri": "https://localhost:8080/"
        },
        "id": "1hG7eBQjD6Gm",
        "outputId": "c8c222ad-10a8-43f4-aace-b06bcf5bbeb1"
      },
      "execution_count": null,
      "outputs": [
        {
          "output_type": "stream",
          "name": "stdout",
          "text": [
            "os.stat_result(st_mode=33152, st_ino=35, st_dev=50, st_nlink=1, st_uid=0, st_gid=0, st_size=37890, st_atime=1704001571, st_mtime=1704002011, st_ctime=1704002011)\n",
            "File Size in Bytes is 37890\n",
            "File Size in KiloBytes is 37.89\n",
            "File Size in MegaBytes is 0.03613471984863281\n"
          ]
        }
      ]
    },
    {
      "cell_type": "markdown",
      "source": [],
      "metadata": {
        "id": "r7yc3YhnbkJX"
      }
    }
  ]
}