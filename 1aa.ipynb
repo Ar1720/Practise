{
  "nbformat": 4,
  "nbformat_minor": 0,
  "metadata": {
    "colab": {
      "provenance": [],
      "authorship_tag": "ABX9TyMR7KSthaC+/rc/2hC/6B5F",
      "include_colab_link": true
    },
    "kernelspec": {
      "name": "python3",
      "display_name": "Python 3"
    },
    "language_info": {
      "name": "python"
    }
  },
  "cells": [
    {
      "cell_type": "markdown",
      "metadata": {
        "id": "view-in-github",
        "colab_type": "text"
      },
      "source": [
        "<a href=\"https://colab.research.google.com/github/Ar1720/Practise/blob/main/1aa.ipynb\" target=\"_parent\"><img src=\"https://colab.research.google.com/assets/colab-badge.svg\" alt=\"Open In Colab\"/></a>"
      ]
    },
    {
      "cell_type": "code",
      "source": [
        "import numpy as np\n",
        "import pandas as pd\n",
        "import matplotlib.pyplot as plt"
      ],
      "metadata": {
        "id": "X5Kj6vyS8_VU"
      },
      "execution_count": 12,
      "outputs": []
    },
    {
      "cell_type": "code",
      "execution_count": 5,
      "metadata": {
        "colab": {
          "base_uri": "https://localhost:8080/"
        },
        "id": "ZfYIxObL8jk8",
        "outputId": "37555f19-be6f-4f98-9e32-c65f0df88560"
      },
      "outputs": [
        {
          "output_type": "stream",
          "name": "stdout",
          "text": [
            "2\n",
            "s\n"
          ]
        }
      ],
      "source": [
        "s = 2\n",
        "print (s)\n",
        "print ('s')"
      ]
    },
    {
      "cell_type": "code",
      "source": [
        "# cumulative sum\n",
        "\n",
        "\n",
        "print (s)\n",
        "s_array = np.array([3, 2, 3, 2])\n",
        "print(s_array)\n",
        "t_array = np.array([44, 55, 66])\n",
        "print(t_array)\n",
        "s_array = np.concatenate((s_array, t_array))\n",
        "print (s_array)\n",
        "# np.cumsum is cumulative sum\n",
        "u = np.cumsum(s_array)\n",
        "print (u)\n",
        "\n"
      ],
      "metadata": {
        "colab": {
          "base_uri": "https://localhost:8080/"
        },
        "id": "A4JEZ9sw85tW",
        "outputId": "ffe34a8e-2952-41df-d9ab-c20c399a4b2f"
      },
      "execution_count": 13,
      "outputs": [
        {
          "output_type": "stream",
          "name": "stdout",
          "text": [
            "2\n",
            "[3 2 3 2]\n",
            "[44 55 66]\n",
            "[ 3  2  3  2 44 55 66]\n",
            "[  3   5   8  10  54 109 175]\n"
          ]
        }
      ]
    },
    {
      "cell_type": "code",
      "source": [
        "time_interval = [4, 6, 12]\n",
        "t1 = time_interval[0]\n",
        "t2 = time_interval[1] + t1\n",
        "t3 = time_interval[2] + t2\n",
        "print(t1, t2, t3)  # -> 4 10 22"
      ],
      "metadata": {
        "id": "lygvu3NkHDWB"
      },
      "execution_count": null,
      "outputs": []
    }
  ]
}