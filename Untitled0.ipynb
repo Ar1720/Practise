{
  "nbformat": 4,
  "nbformat_minor": 0,
  "metadata": {
    "colab": {
      "provenance": [],
      "mount_file_id": "1SaOLz4-Z5GJCNwpwnjloHK6dr-D1WUDM",
      "authorship_tag": "ABX9TyOiBFX7RDj1oaFjTR8PnS0j",
      "include_colab_link": true
    },
    "kernelspec": {
      "name": "python3",
      "display_name": "Python 3"
    },
    "language_info": {
      "name": "python"
    }
  },
  "cells": [
    {
      "cell_type": "markdown",
      "metadata": {
        "id": "view-in-github",
        "colab_type": "text"
      },
      "source": [
        "<a href=\"https://colab.research.google.com/github/Ar1720/Practise/blob/main/Untitled0.ipynb\" target=\"_parent\"><img src=\"https://colab.research.google.com/assets/colab-badge.svg\" alt=\"Open In Colab\"/></a>"
      ]
    },
    {
      "cell_type": "code",
      "execution_count": 56,
      "metadata": {
        "id": "eBPDtno0kXHe",
        "colab": {
          "base_uri": "https://localhost:8080/"
        },
        "outputId": "b4cd0a5b-71da-4510-b510-827195fd3d7e"
      },
      "outputs": [
        {
          "output_type": "stream",
          "name": "stdout",
          "text": [
            "   index Extension (Y/N) PostCode            Technology  Installed capacity  \\\n",
            "0      0               N      NP26  Anaerobic digestion               360.0   \n",
            "1      1               N      CF62  Anaerobic digestion               500.0   \n",
            "2      2               N      NN16  Anaerobic digestion               499.0   \n",
            "3      3               Y      LL13  Anaerobic digestion                88.0   \n",
            "4      4               N      NN17  Anaerobic digestion               360.0   \n",
            "\n",
            "   Declared net capacity Application date  Commissioning date  MCS issue date  \\\n",
            "0                 340.00        2011-07-22         2011-06-24             NaN   \n",
            "1                 482.03        2012-12-21         2012-12-19             NaN   \n",
            "2                 489.00        2010-09-10         2010-09-13             NaN   \n",
            "3                  86.50        2010-11-29         2012-11-09             NaN   \n",
            "4                 346.50        2012-01-16         2010-03-11             NaN   \n",
            "\n",
            "                Export status  ...          Installation Type  \\\n",
            "0  Export (Negotiated Tariff)  ...  Non Domestic (Industrial)   \n",
            "1    Export (Standard Tariff)  ...  Non Domestic (Industrial)   \n",
            "2  Export (Negotiated Tariff)  ...  Non Domestic (Commercial)   \n",
            "3  Export (Negotiated Tariff)  ...  Non Domestic (Commercial)   \n",
            "4                   No Export  ...  Non Domestic (Industrial)   \n",
            "\n",
            "  Installation Country Government Office Region    Local Authority  \\\n",
            "0                Wales                    Wales      Monmouthshire   \n",
            "1                Wales                    Wales  Vale of Glamorgan   \n",
            "2              England            East Midlands          Kettering   \n",
            "3                Wales                    Wales            Wrexham   \n",
            "4              England            East Midlands              Corby   \n",
            "\n",
            "        Constituency Accreditation Route MPAN Prefix  \\\n",
            "0       Newport East              ROOFIT        21.0   \n",
            "1  Vale of Glamorgan              ROOFIT        21.0   \n",
            "2          Kettering              ROOFIT        11.0   \n",
            "3            Wrexham              ROOFIT        13.0   \n",
            "4              Corby              ROOFIT        11.0   \n",
            "\n",
            "  Community school category  LLSOA Code MLSOA Code  \n",
            "0   Not Community Or School   W01001573  W02000346  \n",
            "1   Not Community Or School   W01001119  W02000239  \n",
            "2   Not Community Or School   E01027124  E02005641  \n",
            "3   Not Community Or School   W01000417  W02000420  \n",
            "4   Not Community Or School   E01026982  E02005612  \n",
            "\n",
            "[5 rows x 22 columns]\n",
            "   index Extension (Y/N) PostCode            Technology  Installed capacity  \\\n",
            "0      0               N      NP26  Anaerobic digestion               360.0   \n",
            "1      1               N      CF62  Anaerobic digestion               500.0   \n",
            "2      2               N      NN16  Anaerobic digestion               499.0   \n",
            "3      3               Y      LL13  Anaerobic digestion                88.0   \n",
            "4      4               N      NN17  Anaerobic digestion               360.0   \n",
            "\n",
            "   Declared net capacity Application date  Commissioning date  MCS issue date  \\\n",
            "0                 340.00        2011-07-22         2011-06-24             NaN   \n",
            "1                 482.03        2012-12-21         2012-12-19             NaN   \n",
            "2                 489.00        2010-09-10         2010-09-13             NaN   \n",
            "3                  86.50        2010-11-29         2012-11-09             NaN   \n",
            "4                 346.50        2012-01-16         2010-03-11             NaN   \n",
            "\n",
            "                Export status  ...          Installation Type  \\\n",
            "0  Export (Negotiated Tariff)  ...  Non Domestic (Industrial)   \n",
            "1    Export (Standard Tariff)  ...  Non Domestic (Industrial)   \n",
            "2  Export (Negotiated Tariff)  ...  Non Domestic (Commercial)   \n",
            "3  Export (Negotiated Tariff)  ...  Non Domestic (Commercial)   \n",
            "4                   No Export  ...  Non Domestic (Industrial)   \n",
            "\n",
            "  Installation Country Government Office Region    Local Authority  \\\n",
            "0                Wales                    Wales      Monmouthshire   \n",
            "1                Wales                    Wales  Vale of Glamorgan   \n",
            "2              England            East Midlands          Kettering   \n",
            "3                Wales                    Wales            Wrexham   \n",
            "4              England            East Midlands              Corby   \n",
            "\n",
            "        Constituency Accreditation Route MPAN Prefix  \\\n",
            "0       Newport East              ROOFIT        21.0   \n",
            "1  Vale of Glamorgan              ROOFIT        21.0   \n",
            "2          Kettering              ROOFIT        11.0   \n",
            "3            Wrexham              ROOFIT        13.0   \n",
            "4              Corby              ROOFIT        11.0   \n",
            "\n",
            "  Community school category  LLSOA Code MLSOA Code  \n",
            "0   Not Community Or School   W01001573  W02000346  \n",
            "1   Not Community Or School   W01001119  W02000239  \n",
            "2   Not Community Or School   E01027124  E02005641  \n",
            "3   Not Community Or School   W01000417  W02000420  \n",
            "4   Not Community Or School   E01026982  E02005612  \n",
            "\n",
            "[5 rows x 22 columns]\n"
          ]
        }
      ],
      "source": [
        "import pandas as pd\n",
        "from google.colab import drive\n",
        "df1a = pd.read_excel(\"/content/drive/MyDrive/Spreadsheet/Short1.xlsx\", skiprows=4)\n",
        "df2a = pd.read_excel(\"/content/drive/MyDrive/Spreadsheet/Short2.xlsx\", skiprows=4)\n",
        "# this will print the 1st dataframe\n",
        "# print(df1a)\n",
        "\n",
        "# this will merge df1 with df2 and print it\n",
        "df_merged = pd.concat([df1a, df2a]).reset_index()\n",
        "first_10_rows = df_merged.head(5)\n",
        "print(first_10_rows)\n",
        "# print(df_merged)\n",
        "\n",
        "# this tells you the unique values in the merged\n",
        "# print(df_merged['Technology'].value_counts())\n",
        "# turns the info in commissioning date into date time, prints the first 10 rows and info on data frame\n",
        "df_merged['Commissioning date'] = pd.to_datetime(df_merged['Commissioning date'])\n",
        "df_merged.set_index('Commissioning date')\n",
        "df1a.sort_values(by=['Commissioning date'])\n",
        "print(first_10_rows)\n",
        "\n",
        "\n",
        "\n",
        "\n",
        "# df_merged.set_index('Commissioning date')\n",
        "# print(df_merged.info())\n",
        "# print(first_10_rows)\n",
        "# print('the index has now been set to commissioning date')\n",
        "\n",
        "\n",
        "\n",
        "\n",
        "# print('90 day fiance is a crap show but i watch it every week')\n",
        "# print(df_merged.info())\n",
        "# print(df_merged[['Technology','Commissioning date','Installed capacity']])\n",
        "# df_merged[['Commissioning date','Installed capacity']].plot()\n",
        "# df_merged[df_merged['Technology']==\"Photovoltaic\"].loc[\"2008\":\"2023\", \"Installed_capacity\"].resample(\"Y\").sum().plot()"
      ]
    },
    {
      "cell_type": "code",
      "source": [
        "import pandas as pd\n",
        "from google.colab import drive\n",
        "df1a = pd.read_excel(\"/content/drive/MyDrive/Spreadsheet/Short1.xlsx\", skiprows=4)\n",
        "df2a = pd.read_excel(\"/content/drive/MyDrive/Spreadsheet/Short2.xlsx\", skiprows=4)\n",
        "df3a = pd.concat([df1a, df2a], ignore_index=True)\n",
        "pd.to_datetime(df3a['Application date '])\n",
        "print(df3a)\n"
      ],
      "metadata": {
        "id": "zLHV4QkMABdZ"
      },
      "execution_count": null,
      "outputs": []
    },
    {
      "cell_type": "code",
      "source": [
        "df3a.info()\n",
        "print(df3a['Application date '])"
      ],
      "metadata": {
        "id": "DkvTU4VaUtEz"
      },
      "execution_count": null,
      "outputs": []
    }
  ]
}