{
  "nbformat": 4,
  "nbformat_minor": 0,
  "metadata": {
    "colab": {
      "provenance": [],
      "mount_file_id": "16oz725FIobKFEW9emGyLj88WwgwX1ZRx",
      "authorship_tag": "ABX9TyPM25+NehoXmXR6H9KtG8X0",
      "include_colab_link": true
    },
    "kernelspec": {
      "name": "python3",
      "display_name": "Python 3"
    },
    "language_info": {
      "name": "python"
    }
  },
  "cells": [
    {
      "cell_type": "markdown",
      "metadata": {
        "id": "view-in-github",
        "colab_type": "text"
      },
      "source": [
        "<a href=\"https://colab.research.google.com/github/Ar1720/Practise/blob/main/2ae_excel_csv_reading.ipynb\" target=\"_parent\"><img src=\"https://colab.research.google.com/assets/colab-badge.svg\" alt=\"Open In Colab\"/></a>"
      ]
    },
    {
      "cell_type": "code",
      "execution_count": null,
      "metadata": {
        "id": "7Htra_6Fqutn"
      },
      "outputs": [],
      "source": [
        "from google.colab import drive\n",
        "import pandas as pd\n",
        "drive.mount(\"/content/drive/MyDrive/Csv/Shorted_spreadsheet.csv\")\n",
        "path = \"/content/drive/MyDrive/Csv/Shorted_spreadsheet.csv\"\n",
        "df = pd.read_csv(path)\n",
        "df.head(5)\n"
      ]
    },
    {
      "cell_type": "code",
      "execution_count": null,
      "metadata": {
        "id": "--GFN68BoFGm"
      },
      "outputs": [],
      "source": [
        "from google.colab import drive\n",
        "import pandas as pd\n",
        "drive.mount(\"/content/drive/MyDrive/Csv/espeni_(6).csv\")\n"
      ]
    },
    {
      "cell_type": "code",
      "source": [
        "import pandas as pd\n",
        "import io\n",
        "\n",
        "df = pd.read_csv(io.BytesIO(uploaded['/content/drive/MyDrive/Csv/Shorted_spreadsheet.csv']))\n",
        "print(df)"
      ],
      "metadata": {
        "id": "x7CC0faGs7F9"
      },
      "execution_count": null,
      "outputs": []
    },
    {
      "cell_type": "code",
      "source": [
        "\n",
        "\n",
        "link = 'https://drive.google.com/file/d/1O7gFM4VNOZ_2OZK00G-PKNLa1Z5DTrI5/view?usp=drive_link'\n",
        "\n",
        "import pandas as pd\n",
        "\n",
        "# to get the id part of the file\n",
        "id = link.split(\"/\")[-2]\n",
        "\n",
        "downloaded = drive.CreateFile({'id':id})\n",
        "downloaded.GetContentFile('xclara.csv')\n",
        "\n",
        "df = pd.read_csv('xclara.csv')\n",
        "print(df)"
      ],
      "metadata": {
        "id": "tIJIc4tGtKB9"
      },
      "execution_count": null,
      "outputs": []
    },
    {
      "cell_type": "code",
      "source": [
        "\n",
        "import pandas as pd\n",
        "\n",
        "df = pd.read_csv(\"/content/drive/MyDrive/Csv/Shorted_spreadsheet.csv\")\n",
        "print(df)"
      ],
      "metadata": {
        "colab": {
          "base_uri": "https://localhost:8080/"
        },
        "id": "0fdE4AqGtWxG",
        "outputId": "08e1682c-186f-4b55-93e1-55dcf7a58dc9"
      },
      "execution_count": null,
      "outputs": [
        {
          "output_type": "stream",
          "name": "stdout",
          "text": [
            "  ELEC_elex_startTime[utc](datetime) ELEC_startTime[localtime](datetime)  \\\n",
            "0          2008-11-05 21:00:00+00:00           2008-11-05 21:00:00+00:00   \n",
            "1          2008-11-05 21:30:00+00:00           2008-11-05 21:30:00+00:00   \n",
            "2          2008-11-05 22:00:00+00:00           2008-11-05 22:00:00+00:00   \n",
            "3          2008-11-05 22:30:00+00:00           2008-11-05 22:30:00+00:00   \n",
            "4          2008-11-05 23:00:00+00:00           2008-11-05 23:00:00+00:00   \n",
            "5          2008-11-05 23:30:00+00:00           2008-11-05 23:30:00+00:00   \n",
            "6          2008-11-06 00:00:00+00:00           2008-11-06 00:00:00+00:00   \n",
            "7          2008-11-06 00:30:00+00:00           2008-11-06 00:30:00+00:00   \n",
            "\n",
            "   dayofyear[](int32)  halfhourofyear[](int32)  ELEC_elexm_rowflag[](int8)  \\\n",
            "0                 310                    14875                           1   \n",
            "1                 310                    14876                           1   \n",
            "2                 310                    14877                           1   \n",
            "3                 310                    14878                           1   \n",
            "4                 310                    14879                           1   \n",
            "5                 310                    14880                           1   \n",
            "6                 311                    14881                           1   \n",
            "7                 311                    14882                           1   \n",
            "\n",
            "  ELEC_sdsp_calc[](string)  ELEC_bronze_settlementPeriod[](string)  \\\n",
            "0            2008-11-05_43                                      43   \n",
            "1            2008-11-05_44                                      44   \n",
            "2            2008-11-05_45                                      45   \n",
            "3            2008-11-05_46                                      46   \n",
            "4            2008-11-05_47                                      47   \n",
            "5            2008-11-05_48                                      48   \n",
            "6            2008-11-06_01                                       1   \n",
            "7            2008-11-06_02                                       2   \n",
            "\n",
            "   ELEC_POWER_ELEX_BIOMASS_PRECALC[MW](float32)  \\\n",
            "0                                           NaN   \n",
            "1                                           NaN   \n",
            "2                                           NaN   \n",
            "3                                           NaN   \n",
            "4                                           NaN   \n",
            "5                                           NaN   \n",
            "6                                           NaN   \n",
            "7                                           NaN   \n",
            "\n",
            "   ELEC_POWER_ELEX_CCGT[MW](float32)  ELEC_POWER_ELEX_COAL[MW](float32)  ...  \\\n",
            "0                              16468                              19525  ...   \n",
            "1                              15240                              18892  ...   \n",
            "2                              14402                              18154  ...   \n",
            "3                              13170                              17843  ...   \n",
            "4                              12520                              17339  ...   \n",
            "5                              12492                              16346  ...   \n",
            "6                              12563                              16532  ...   \n",
            "7                              12302                              16479  ...   \n",
            "\n",
            "   ELEC_POWER_ELEX_NEGATIVE_IMPORTS[MW](float32)  \\\n",
            "0                                            -60   \n",
            "1                                            -60   \n",
            "2                                            -60   \n",
            "3                                            -60   \n",
            "4                                            -60   \n",
            "5                                            -60   \n",
            "6                                            -60   \n",
            "7                                            -60   \n",
            "\n",
            "   ELEC_POWER_ELEX_POSITIVE_IMPORTS[MW](float32)  \\\n",
            "0                                           1354   \n",
            "1                                           1386   \n",
            "2                                           1362   \n",
            "3                                           1360   \n",
            "4                                           1838   \n",
            "5                                           1846   \n",
            "6                                           1844   \n",
            "7                                           1846   \n",
            "\n",
            "   ELEC_POWER_TOTAL_SYNCHRONOUS_[MW](float32)  \\\n",
            "0                                       42533   \n",
            "1                                       40703   \n",
            "2                                       38791   \n",
            "3                                       36945   \n",
            "4                                       35763   \n",
            "5                                       34730   \n",
            "6                                       34992   \n",
            "7                                       34676   \n",
            "\n",
            "   ELEC_POWER_TOTAL_ESPENI[MW](float32)  ELEC_POWER_TOTAL_WIND[MW](float32)  \\\n",
            "0                                 43889                                  62   \n",
            "1                                 42097                                  68   \n",
            "2                                 40157                                  64   \n",
            "3                                 38307                                  62   \n",
            "4                                 37596                                  55   \n",
            "5                                 36557                                  41   \n",
            "6                                 36805                                  29   \n",
            "7                                 36493                                  31   \n",
            "\n",
            "   ELEC_POWER_TOTAL_EMBEDDED[MW](float32)  \\\n",
            "0                                       0   \n",
            "1                                       0   \n",
            "2                                       0   \n",
            "3                                       0   \n",
            "4                                       0   \n",
            "5                                       0   \n",
            "6                                       0   \n",
            "7                                       0   \n",
            "\n",
            "   ELEC_POWER_TOTAL_WDRENEWABLES[MW](float32)  \\\n",
            "0                                         376   \n",
            "1                                         367   \n",
            "2                                         365   \n",
            "3                                         347   \n",
            "4                                         304   \n",
            "5                                         279   \n",
            "6                                         267   \n",
            "7                                         269   \n",
            "\n",
            "   ELEC_POWER_TOTAL_WDRENEWABLESplusBIOMASS[MW](float32)  \\\n",
            "0                                                376       \n",
            "1                                                367       \n",
            "2                                                365       \n",
            "3                                                347       \n",
            "4                                                304       \n",
            "5                                                279       \n",
            "6                                                267       \n",
            "7                                                269       \n",
            "\n",
            "   ELEC_POWER_TOTAL_LOWCARBON[MW](float32)  \\\n",
            "0                                     6022   \n",
            "1                                     6011   \n",
            "2                                     6013   \n",
            "3                                     5994   \n",
            "4                                     5959   \n",
            "5                                     5933   \n",
            "6                                     5926   \n",
            "7                                     5926   \n",
            "\n",
            "   ELEC_POWER_TOTAL_FOSSIL[MW](float32)  \n",
            "0                                 35993  \n",
            "1                                 34132  \n",
            "2                                 32556  \n",
            "3                                 31013  \n",
            "4                                 29859  \n",
            "5                                 28838  \n",
            "6                                 29095  \n",
            "7                                 28781  \n",
            "\n",
            "[8 rows x 44 columns]\n"
          ]
        }
      ]
    }
  ]
}